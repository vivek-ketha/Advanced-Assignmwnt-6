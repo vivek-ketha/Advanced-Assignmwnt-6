{
 "cells": [
  {
   "cell_type": "markdown",
   "id": "2cc12d34",
   "metadata": {},
   "source": [
    "1.Common Examples of Exception are 1) Division by Zero, 2) Accessing a file which is not existent, 3) Addition of two incompatible types. An exception is a Python object which represents an error.\n",
    "\n",
    "2.When an exception occurred, if you don't handle it, the program terminates abruptly and the code past the line that caused the exception will not get executed.\n",
    "\n",
    "3.Handling an exception\n",
    "A single try statement can have multiple except statements.\n",
    "You can also provide a generic except clause, which handles any exception.\n",
    "After the except clause(s), you can include an else-clause.\n",
    "The else-block is a good place for code that does not need the try: block's protection.\n",
    "\n",
    "4.As a Python developer you can choose to throw an exception if a condition occurs. To throw (or raise) an exception, use the raise keyword.\n",
    "\n",
    "5.The optional else clause contains codes to be executed if no exception occurs. The optional finally block contains codes to be executed irrespective of whether an exception occurs or not."
   ]
  }
 ],
 "metadata": {
  "kernelspec": {
   "display_name": "Python 3",
   "language": "python",
   "name": "python3"
  },
  "language_info": {
   "codemirror_mode": {
    "name": "ipython",
    "version": 3
   },
   "file_extension": ".py",
   "mimetype": "text/x-python",
   "name": "python",
   "nbconvert_exporter": "python",
   "pygments_lexer": "ipython3",
   "version": "3.8.8"
  }
 },
 "nbformat": 4,
 "nbformat_minor": 5
}
